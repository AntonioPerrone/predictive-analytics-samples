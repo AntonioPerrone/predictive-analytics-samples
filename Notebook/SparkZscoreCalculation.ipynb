{
 "cells": [
  {
   "cell_type": "code",
   "execution_count": null,
   "metadata": {
    "collapsed": false
   },
   "outputs": [
    {
     "name": "stdout",
     "output_type": "stream",
     "text": [
      "Starting download from https://github.com/ibm-watson-iot/predictive-analytics-samples/releases/download/0.0.3/IoTSparkAsServiceSample-3.0.0.jar\n",
      "Finished download of IoTSparkAsServiceSample-3.0.0.jar\n",
      "Using cached version of spark-streaming-mqtt-security_2.10-1.3.0-0.0.1.jar\n",
      "Using cached version of wink-json4j-1.4.jar\n",
      "Using cached version of org.eclipse.paho.client.mqttv3-1.0.2.jar\n",
      "Using cached version of commons-math-2.2.jar\n",
      "Using cached version of args4j-2.0.12.jar\n",
      "MQTT subscribe topics:iot-2/type/+/id/+/evt/temperature/fmt/+\n",
      "MQTT uri:ssl://coi0nz.messaging.internetofthings.ibmcloud.com:8883\n",
      "MQTT appid:a:coi0nz:sample123tg\n",
      "MQTT apikey:a-coi0nz-g1appit53j\n",
      "MQTT authtoken:TQW4aawpx7u4Fqkbhr\n",
      "Testing the connectivity to Watson IoT Platform ... \n",
      "serverURI:ssl://coi0nz.messaging.internetofthings.ibmcloud.com:8883\n",
      "clientId:a:coi0nz:sample123tg98\n",
      "MQTT Client is connected to the server\n",
      "Connected to MQTT server and Kafka\n",
      "Able to connect to Watson IoT Platform successfully !!\n",
      "Testing the connectivity to Predictive Analytics service ... \n",
      "Creating new instance of IoTPredictionNonPeriodic\n",
      "window size is 10\n",
      "[{\"header\":[\"TEMPRATURE\",\"SEQ\",\"$TI_TimeIndex\",\"$TI_TimeLabel\",\"$TI_Period\",\"$TI_Future\",\"$TS-TEMPRATURE\",\"$TSLCI-TEMPRATURE\",\"$TSUCI-TEMPRATURE\"],\"data\":[[null,null,51,\"Period 51\",51,1,26.97000990709166,26.905590020728084,27.03442979345524],[null,null,52,\"Period 52\",52,1,26.970017143418854,26.87891366643695,27.061120620400757],[null,null,53,\"Period 53\",53,1,26.97002242896915,26.85844391276962,27.081600945168677],[null,null,54,\"Period 54\",54,1,26.970026289635086,26.841186516907932,27.09886606236224],[null,null,55,\"Period 55\",55,1,26.970029109538533,26.825981864526764,27.114076354550303],[null,null,56,\"Period 56\",56,1,26.970031169249364,26.812235318370522,27.127827020128205],[null,null,57,\"Period 57\",57,1,26.970032673701123,26.79959367489606,27.140471672506187],[null,null,58,\"Period 58\",58,1,26.970033772581154,26.787826818617344,27.152240726544964],[null,null,59,\"Period 59\",59,1,26.97003457522392,26.77677491613319,27.16329423431465],[null,null,60,\"Period 60\",60,1,26.97003516148938,26.766321593971256,27.173748729007507],[null,null,61,\"Period 61\",61,1,26.97003558970877,26.756378997603452,27.183692181814084],[null,null,62,\"Period 62\",62,1,26.97003590248831,26.74687887008925,27.193192934887367],[null,null,63,\"Period 63\",63,1,26.970036130948404,26.737766927504964,27.202305334391845],[null,null,64,\"Period 64\",64,1,26.97003629781998,26.728999154152564,27.211073441487397],[null,null,65,\"Period 65\",65,1,26.970036419706137,26.72053927265543,27.219533566756844],[null,null,66,\"Period 66\",66,1,26.97003650873409,26.71235696327978,27.2277160541884],[null,null,67,\"Period 67\",67,1,26.970036573761792,26.704426577894477,27.235646569629107],[null,null,68,\"Period 68\",68,1,26.970036621259258,26.696726190313544,27.24334705220497],[null,null,69,\"Period 69\",69,1,26.970036655952303,26.689236881339095,27.25083643056551],[null,null,70,\"Period 70\",70,1,26.97003668129276,26.681942191269222,27.2581311713163]]}]\n",
      "Connection to Predictive Analytics service is proper and able to invoke the service successfully\n",
      "+++ print out the received data now:\n"
     ]
    }
   ],
   "source": [
    "%AddJar https://github.com/ibm-watson-iot/predictive-analytics-samples/releases/download/0.0.3/IoTSparkAsServiceSample-3.0.0.jar -f\n",
    "%AddJar https://github.com/sathipal/spark-streaming-mqtt-with-security_2.10-1.3.0/releases/download/0.0.1/spark-streaming-mqtt-security_2.10-1.3.0-0.0.1.jar\n",
    "%AddJar http://central.maven.org/maven2/org/apache/wink/wink-json4j/1.4/wink-json4j-1.4.jar\n",
    "%AddJar https://repo.eclipse.org/content/repositories/paho-releases/org/eclipse/paho/org.eclipse.paho.client.mqttv3/1.0.2/org.eclipse.paho.client.mqttv3-1.0.2.jar\n",
    "%AddJar http://central.maven.org/maven2/org/apache/commons/commons-math/2.2/commons-math-2.2.jar\n",
    "%AddJar http://repo1.maven.org/maven2/args4j/args4j/2.0.12/args4j-2.0.12.jar\n",
    "\n",
    " import com.ibm.iot.iotspark.IoTSparkAsServiceSample\n",
    "\n",
    " //Watson IoT Platform related parameters\n",
    " IoTSparkAsServiceSample.setConfig(\"appid\",\"a:coi0nz:sample123tg\")\n",
    " IoTSparkAsServiceSample.setConfig(\"uri\",\"ssl://coi0nz.messaging.internetofthings.ibmcloud.com:8883\")\n",
    " IoTSparkAsServiceSample.setConfig(\"mqtopic\",\"iot-2/type/+/id/+/evt/temperature/fmt/+\")\n",
    " IoTSparkAsServiceSample.setConfig(\"apikey\",\"a-coi0nz-g1appit53j\")\n",
    " IoTSparkAsServiceSample.setConfig(\"authtoken\",\"TQW4aawpx7u4Fqkbhr\")\n",
    "\n",
    " // Predictive Service related parameters\n",
    " IoTSparkAsServiceSample.setConfig(\"window\",\"10\")\n",
    " IoTSparkAsServiceSample.setConfig(\"cycle\",\"10\")\n",
    " IoTSparkAsServiceSample.setConfig(\"predictive-service-url\",\"https://palbyp.pmservice.ibmcloud.com/pm/v1/score/anamolydetection?accesskey=jaTVVcGcFERIV1MMuxCp/+iAcutOF2BMTVXUjsGw4T3L/n4PnPRQKBZf1MGSNrRHHxGxQ3pIogjgEOjN0TGDTcL0h32gVzPkwMbmHXNpi+E+1Nj7cUCkJWYNMmcRk/B2yCm1fYXuH2dW+azkxt1gpOyPhrBXm4/xhc6A+090VsA=\")\n",
    "\n",
    " // Start the Streaming job\n",
    " IoTSparkAsServiceSample.startStreaming(sc, 2)"
   ]
  },
  {
   "cell_type": "code",
   "execution_count": null,
   "metadata": {
    "collapsed": true
   },
   "outputs": [],
   "source": []
  }
 ],
 "metadata": {
  "kernelspec": {
   "display_name": "Scala 2.10",
   "language": "scala",
   "name": "spark"
  },
  "language_info": {
   "name": "scala"
  }
 },
 "nbformat": 4,
 "nbformat_minor": 0
}